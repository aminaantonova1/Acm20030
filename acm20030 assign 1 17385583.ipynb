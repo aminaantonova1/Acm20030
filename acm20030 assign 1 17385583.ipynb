{
 "cells": [
  {
   "cell_type": "markdown",
   "id": "82b60a8a",
   "metadata": {},
   "source": [
    "## Question 0"
   ]
  },
  {
   "cell_type": "code",
   "execution_count": 2,
   "id": "6d60f87e",
   "metadata": {},
   "outputs": [],
   "source": [
    "import math, cmath\n",
    "import numpy as np\n",
    "import matplotlib.pyplot as plt"
   ]
  },
  {
   "cell_type": "markdown",
   "id": "fa72db94",
   "metadata": {},
   "source": [
    "# Question 1 a"
   ]
  },
  {
   "cell_type": "code",
   "execution_count": 6,
   "id": "9dc6ec38",
   "metadata": {},
   "outputs": [],
   "source": [
    "def VectorLength(x,y):\n",
    "    result= math.sqrt(x**2 + y**2)\n",
    "    return result\n"
   ]
  },
  {
   "cell_type": "markdown",
   "id": "80c36250",
   "metadata": {},
   "source": [
    "# Question 1 b"
   ]
  },
  {
   "cell_type": "code",
   "execution_count": 7,
   "id": "d277aefc",
   "metadata": {},
   "outputs": [
    {
     "data": {
      "text/plain": [
       "7.810249675906654"
      ]
     },
     "execution_count": 7,
     "metadata": {},
     "output_type": "execute_result"
    }
   ],
   "source": [
    "VectorLength (5,6)\n"
   ]
  },
  {
   "cell_type": "code",
   "execution_count": 8,
   "id": "6c5b9e7f",
   "metadata": {},
   "outputs": [
    {
     "data": {
      "text/plain": [
       "5.0990195135927845"
      ]
     },
     "execution_count": 8,
     "metadata": {},
     "output_type": "execute_result"
    }
   ],
   "source": [
    "VectorLength(-1,5)"
   ]
  },
  {
   "cell_type": "code",
   "execution_count": 9,
   "id": "d1235a77",
   "metadata": {},
   "outputs": [
    {
     "name": "stdout",
     "output_type": "stream",
     "text": [
      " the length of the vectors are 7.810249675906654 and 7.810249675906654 \n"
     ]
    }
   ],
   "source": [
    "print(\" the length of the vectors are 7.810249675906654 and 7.810249675906654 \")"
   ]
  },
  {
   "cell_type": "markdown",
   "id": "b1dc694c",
   "metadata": {},
   "source": [
    "# Question 1 c"
   ]
  },
  {
   "cell_type": "code",
   "execution_count": 11,
   "id": "08cf9b5d",
   "metadata": {},
   "outputs": [
    {
     "name": "stdout",
     "output_type": "stream",
     "text": [
      "sin(1)= \n"
     ]
    },
    {
     "data": {
      "text/plain": [
       "(None, '0.841')"
      ]
     },
     "execution_count": 11,
     "metadata": {},
     "output_type": "execute_result"
    }
   ],
   "source": [
    "print(\"sin(1)= \"), format(np.sin(1),\".3f\")"
   ]
  },
  {
   "cell_type": "markdown",
   "id": "28e25d19",
   "metadata": {},
   "source": [
    "# Question 2"
   ]
  },
  {
   "cell_type": "code",
   "execution_count": 24,
   "id": "2200bb34",
   "metadata": {},
   "outputs": [],
   "source": [
    "# function to check if number is prime\n",
    "def IsPrime(n):\n",
    "    i=2\n",
    "    while i < np.sqrt(n):\n",
    "    # for each i check if it divides n\n",
    "        if(n % i == 0):\n",
    "            return 0\n",
    "    i+= 1\n",
    "    # if no divisors are found the number is prime\n",
    "    return 1"
   ]
  },
  {
   "cell_type": "markdown",
   "id": "0bbf3f6b",
   "metadata": {},
   "source": [
    "# Question 2 a"
   ]
  },
  {
   "cell_type": "code",
   "execution_count": 1,
   "id": "09bb48f3",
   "metadata": {},
   "outputs": [
    {
     "ename": "NameError",
     "evalue": "name 'IsPrime' is not defined",
     "output_type": "error",
     "traceback": [
      "\u001b[1;31m---------------------------------------------------------------------------\u001b[0m",
      "\u001b[1;31mNameError\u001b[0m                                 Traceback (most recent call last)",
      "\u001b[1;32m<ipython-input-1-d72311444804>\u001b[0m in \u001b[0;36m<module>\u001b[1;34m\u001b[0m\n\u001b[0;32m      1\u001b[0m \u001b[1;31m# checking values 1-10\u001b[0m\u001b[1;33m\u001b[0m\u001b[1;33m\u001b[0m\u001b[1;33m\u001b[0m\u001b[0m\n\u001b[0;32m      2\u001b[0m \u001b[1;32mfor\u001b[0m \u001b[0mi\u001b[0m \u001b[1;32min\u001b[0m \u001b[0mrange\u001b[0m\u001b[1;33m(\u001b[0m\u001b[1;36m1\u001b[0m\u001b[1;33m,\u001b[0m\u001b[1;36m11\u001b[0m\u001b[1;33m)\u001b[0m\u001b[1;33m:\u001b[0m\u001b[1;33m\u001b[0m\u001b[1;33m\u001b[0m\u001b[0m\n\u001b[1;32m----> 3\u001b[1;33m     \u001b[0mprint\u001b[0m\u001b[1;33m(\u001b[0m\u001b[0mIsPrime\u001b[0m\u001b[1;33m(\u001b[0m\u001b[0mi\u001b[0m\u001b[1;33m)\u001b[0m\u001b[1;33m)\u001b[0m\u001b[1;33m;\u001b[0m\u001b[1;33m\u001b[0m\u001b[1;33m\u001b[0m\u001b[0m\n\u001b[0m",
      "\u001b[1;31mNameError\u001b[0m: name 'IsPrime' is not defined"
     ]
    }
   ],
   "source": [
    "# checking values 1-10\n",
    "for i in range(1,11):\n",
    "    print(IsPrime(i));"
   ]
  },
  {
   "cell_type": "code",
   "execution_count": null,
   "id": "e4e4e3fb",
   "metadata": {},
   "outputs": [],
   "source": [
    "# no it doesnt"
   ]
  },
  {
   "cell_type": "markdown",
   "id": "3d58066a",
   "metadata": {},
   "source": [
    "# Question 2b"
   ]
  },
  {
   "cell_type": "code",
   "execution_count": 35,
   "id": "e75e0d9d",
   "metadata": {},
   "outputs": [],
   "source": [
    "# function to check if number is prime\n",
    "\n",
    "def IsPrime(n):\n",
    "    if n== 1:\n",
    "        return 0\n",
    "    else:\n",
    "        i=2\n",
    "        while i < np.sqrt(n):\n",
    "        \n",
    "        #for each i check if it divides n\n",
    "            if(n % i == 0):\n",
    "                return 0\n",
    "        i += 1\n",
    "    # if no divisors are found the number is prime return\n",
    "    return 1"
   ]
  },
  {
   "cell_type": "code",
   "execution_count": 36,
   "id": "98487c77",
   "metadata": {},
   "outputs": [
    {
     "name": "stdout",
     "output_type": "stream",
     "text": [
      "0\n"
     ]
    }
   ],
   "source": [
    "for i in range(1,2):\n",
    "    print(IsPrime(i));"
   ]
  },
  {
   "cell_type": "markdown",
   "id": "9ba02c1a",
   "metadata": {},
   "source": [
    "# Question 3a"
   ]
  },
  {
   "cell_type": "code",
   "execution_count": null,
   "id": "7a56a1a1",
   "metadata": {},
   "outputs": [],
   "source": []
  }
 ],
 "metadata": {
  "kernelspec": {
   "display_name": "Python 3",
   "language": "python",
   "name": "python3"
  },
  "language_info": {
   "codemirror_mode": {
    "name": "ipython",
    "version": 3
   },
   "file_extension": ".py",
   "mimetype": "text/x-python",
   "name": "python",
   "nbconvert_exporter": "python",
   "pygments_lexer": "ipython3",
   "version": "3.8.8"
  }
 },
 "nbformat": 4,
 "nbformat_minor": 5
}
